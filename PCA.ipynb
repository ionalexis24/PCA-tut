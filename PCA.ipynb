{
 "cells": [
  {
   "cell_type": "markdown",
   "metadata": {},
   "source": [
    "Am urmarit articulul [acesta](https://towardsdatascience.com/the-mathematics-behind-principal-component-analysis-fff2d7f4b643) legat de PCA"
   ]
  },
  {
   "cell_type": "code",
   "execution_count": 1,
   "metadata": {},
   "outputs": [],
   "source": [
    "import numpy as np"
   ]
  },
  {
   "cell_type": "code",
   "execution_count": 3,
   "metadata": {},
   "outputs": [],
   "source": [
    "m=np.array([[90, 90, 60, 60, 30],\n",
    "            [60, 90, 60, 60, 30],\n",
    "            [90, 30, 60, 90, 30]]).T"
   ]
  },
  {
   "cell_type": "code",
   "execution_count": 4,
   "metadata": {},
   "outputs": [],
   "source": [
    "cm=np.cov(m.T)"
   ]
  },
  {
   "cell_type": "code",
   "execution_count": 5,
   "metadata": {},
   "outputs": [],
   "source": [
    "vals,vects=np.linalg.eig(cm)"
   ]
  },
  {
   "cell_type": "code",
   "execution_count": 6,
   "metadata": {},
   "outputs": [],
   "source": [
    "idx=vals.argsort()[::-1]\n",
    "vals=vals[idx]\n",
    "vects=vects[:,idx]"
   ]
  },
  {
   "cell_type": "code",
   "execution_count": 7,
   "metadata": {
    "scrolled": true
   },
   "outputs": [
    {
     "data": {
      "text/plain": [
       "(array([1137.5874413 ,  786.38798335,   56.02457535]),\n",
       " array([[-0.65580225, -0.3859988 ,  0.6487899 ],\n",
       "        [-0.4291978 , -0.51636642, -0.74104991],\n",
       "        [-0.62105769,  0.7644414 , -0.17296443]]))"
      ]
     },
     "execution_count": 7,
     "metadata": {},
     "output_type": "execute_result"
    }
   ],
   "source": [
    "vals, vects"
   ]
  },
  {
   "cell_type": "markdown",
   "metadata": {},
   "source": [
    "Alegem sa ignoram ultima coloana"
   ]
  },
  {
   "cell_type": "code",
   "execution_count": 9,
   "metadata": {},
   "outputs": [],
   "source": [
    "vects=vects[:,:2:]\n",
    "vals=vals[:2:]"
   ]
  },
  {
   "cell_type": "code",
   "execution_count": 10,
   "metadata": {},
   "outputs": [
    {
     "data": {
      "text/plain": [
       "(array([1137.5874413 ,  786.38798335]), array([[-0.65580225, -0.3859988 ],\n",
       "        [-0.4291978 , -0.51636642],\n",
       "        [-0.62105769,  0.7644414 ]]))"
      ]
     },
     "execution_count": 10,
     "metadata": {},
     "output_type": "execute_result"
    }
   ],
   "source": [
    "vals, vects"
   ]
  },
  {
   "cell_type": "code",
   "execution_count": 14,
   "metadata": {},
   "outputs": [
    {
     "data": {
      "text/plain": [
       "array([[-140.6692628 ,    3.07784927],\n",
       "       [-116.28173533,  -58.27962721],\n",
       "       [-102.36346447,   -8.27542884],\n",
       "       [-120.99519515,   14.65781313],\n",
       "       [ -51.18173223,   -4.13771442]])"
      ]
     },
     "execution_count": 14,
     "metadata": {},
     "output_type": "execute_result"
    }
   ],
   "source": [
    "y=m.dot(vects)\n",
    "y"
   ]
  },
  {
   "cell_type": "markdown",
   "metadata": {},
   "source": [
    "Asa am eliminat o dimensiune din maticea initiala pastrand cat mai multa informatie"
   ]
  },
  {
   "cell_type": "markdown",
   "metadata": {},
   "source": []
  }
 ],
 "metadata": {
  "kernelspec": {
   "display_name": "Python 3",
   "language": "python",
   "name": "python3"
  },
  "language_info": {
   "codemirror_mode": {
    "name": "ipython",
    "version": 3
   },
   "file_extension": ".py",
   "mimetype": "text/x-python",
   "name": "python",
   "nbconvert_exporter": "python",
   "pygments_lexer": "ipython3",
   "version": "3.7.3"
  }
 },
 "nbformat": 4,
 "nbformat_minor": 2
}
