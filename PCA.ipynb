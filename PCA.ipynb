{
 "cells": [
  {
   "cell_type": "markdown",
   "metadata": {},
   "source": [
    "Am urmarit articulul [acesta](https://towardsdatascience.com/the-mathematics-behind-principal-component-analysis-fff2d7f4b643) legat de PCA"
   ]
  },
  {
   "cell_type": "code",
   "execution_count": 1,
   "metadata": {},
   "outputs": [],
   "source": [
    "import numpy as np"
   ]
  },
  {
   "cell_type": "code",
   "execution_count": 2,
   "metadata": {},
   "outputs": [
    {
     "data": {
      "text/plain": [
       "array([[90, 60, 90],\n",
       "       [90, 90, 30],\n",
       "       [60, 60, 60],\n",
       "       [60, 60, 90],\n",
       "       [30, 30, 30]])"
      ]
     },
     "execution_count": 2,
     "metadata": {},
     "output_type": "execute_result"
    }
   ],
   "source": [
    "m=np.array([[90, 90, 60, 60, 30],\n",
    "            [60, 90, 60, 60, 30],\n",
    "            [90, 30, 60, 90, 30]]).T\n",
    "m"
   ]
  },
  {
   "cell_type": "code",
   "execution_count": 3,
   "metadata": {},
   "outputs": [],
   "source": [
    "cm=np.cov(m.T)"
   ]
  },
  {
   "cell_type": "code",
   "execution_count": 4,
   "metadata": {},
   "outputs": [],
   "source": [
    "vals,vects=np.linalg.eig(cm)"
   ]
  },
  {
   "cell_type": "code",
   "execution_count": 5,
   "metadata": {},
   "outputs": [],
   "source": [
    "idx=vals.argsort()[::-1]\n",
    "vals=vals[idx]\n",
    "vects=vects[:,idx]"
   ]
  },
  {
   "cell_type": "code",
   "execution_count": 6,
   "metadata": {
    "scrolled": true
   },
   "outputs": [
    {
     "data": {
      "text/plain": [
       "(array([1137.5874413 ,  786.38798335,   56.02457535]),\n",
       " array([[-0.65580225, -0.3859988 ,  0.6487899 ],\n",
       "        [-0.4291978 , -0.51636642, -0.74104991],\n",
       "        [-0.62105769,  0.7644414 , -0.17296443]]))"
      ]
     },
     "execution_count": 6,
     "metadata": {},
     "output_type": "execute_result"
    }
   ],
   "source": [
    "vals, vects"
   ]
  },
  {
   "cell_type": "markdown",
   "metadata": {},
   "source": [
    "Alegem sa ignoram ultima coloana"
   ]
  },
  {
   "cell_type": "code",
   "execution_count": 7,
   "metadata": {},
   "outputs": [],
   "source": [
    "vects=vects[:,:2:]\n",
    "vals=vals[:2:]"
   ]
  },
  {
   "cell_type": "code",
   "execution_count": 8,
   "metadata": {},
   "outputs": [
    {
     "data": {
      "text/plain": [
       "(array([1137.5874413 ,  786.38798335]), array([[-0.65580225, -0.3859988 ],\n",
       "        [-0.4291978 , -0.51636642],\n",
       "        [-0.62105769,  0.7644414 ]]))"
      ]
     },
     "execution_count": 8,
     "metadata": {},
     "output_type": "execute_result"
    }
   ],
   "source": [
    "vals, vects"
   ]
  },
  {
   "cell_type": "code",
   "execution_count": 9,
   "metadata": {},
   "outputs": [
    {
     "data": {
      "text/plain": [
       "array([[-140.6692628 ,    3.07784927],\n",
       "       [-116.28173533,  -58.27962721],\n",
       "       [-102.36346447,   -8.27542884],\n",
       "       [-120.99519515,   14.65781313],\n",
       "       [ -51.18173223,   -4.13771442]])"
      ]
     },
     "execution_count": 9,
     "metadata": {},
     "output_type": "execute_result"
    }
   ],
   "source": [
    "y=m.dot(vects)\n",
    "y"
   ]
  },
  {
   "cell_type": "markdown",
   "metadata": {},
   "source": [
    "Asa am eliminat o dimensiune din maticea initiala pastrand cat mai multa informatie"
   ]
  },
  {
   "cell_type": "markdown",
   "metadata": {},
   "source": [
    "Acum acelasi lucru doar ca normalizam vectorii din matrice cu $ z=\\frac{x-\\mu}{\\sigma} $"
   ]
  },
  {
   "cell_type": "code",
   "execution_count": 10,
   "metadata": {},
   "outputs": [
    {
     "data": {
      "text/plain": [
       "array([[66.        , 60.        , 60.        ],\n",
       "       [22.44994432, 18.97366596, 26.83281573]])"
      ]
     },
     "execution_count": 10,
     "metadata": {},
     "output_type": "execute_result"
    }
   ],
   "source": [
    "mm=np.array([[m[:,i].mean() for i in range(m.shape[1])],\n",
    "            [m[:,i].std() for i in range(m.shape[1])]])\n",
    "mm"
   ]
  },
  {
   "cell_type": "code",
   "execution_count": 11,
   "metadata": {},
   "outputs": [],
   "source": [
    "m=np.array([(m[:,i]-mm[0][i])/mm[1][i] for i in range(m.shape[1])]).T"
   ]
  },
  {
   "cell_type": "code",
   "execution_count": 13,
   "metadata": {},
   "outputs": [
    {
     "data": {
      "text/plain": [
       "array([[ 1.06904497,  0.        ,  1.11803399],\n",
       "       [ 1.06904497,  1.58113883, -1.11803399],\n",
       "       [-0.26726124,  0.        ,  0.        ],\n",
       "       [-0.26726124,  0.        ,  1.11803399],\n",
       "       [-1.60356745, -1.58113883, -1.11803399]])"
      ]
     },
     "execution_count": 13,
     "metadata": {},
     "output_type": "execute_result"
    }
   ],
   "source": [
    "m"
   ]
  },
  {
   "cell_type": "code",
   "execution_count": 14,
   "metadata": {},
   "outputs": [],
   "source": [
    "cm=np.cov(m.T)"
   ]
  },
  {
   "cell_type": "code",
   "execution_count": 15,
   "metadata": {},
   "outputs": [],
   "source": [
    "vals,vects=np.linalg.eig(cm)"
   ]
  },
  {
   "cell_type": "code",
   "execution_count": 16,
   "metadata": {},
   "outputs": [],
   "source": [
    "idx=vals.argsort()[::-1]\n",
    "vals=vals[idx]\n",
    "vects=vects[:,idx]"
   ]
  },
  {
   "cell_type": "code",
   "execution_count": 17,
   "metadata": {},
   "outputs": [
    {
     "data": {
      "text/plain": [
       "(array([2.37052682, 1.25      , 0.12947318]),\n",
       " array([[ 7.07106781e-01, -1.48620676e-16,  7.07106781e-01],\n",
       "        [ 6.66666667e-01, -3.33333333e-01, -6.66666667e-01],\n",
       "        [ 2.35702260e-01,  9.42809042e-01, -2.35702260e-01]]))"
      ]
     },
     "execution_count": 17,
     "metadata": {},
     "output_type": "execute_result"
    }
   ],
   "source": [
    "vals, vects"
   ]
  },
  {
   "cell_type": "code",
   "execution_count": 18,
   "metadata": {},
   "outputs": [],
   "source": [
    "vects=vects[:,:2:]\n",
    "vals=vals[:2:]"
   ]
  },
  {
   "cell_type": "code",
   "execution_count": 19,
   "metadata": {},
   "outputs": [
    {
     "data": {
      "text/plain": [
       "array([[ 1.01945208e+00,  1.05409255e+00],\n",
       "       [ 1.54649836e+00, -1.58113883e+00],\n",
       "       [-1.88982237e-01,  3.97205465e-17],\n",
       "       [ 7.45409018e-02,  1.05409255e+00],\n",
       "       [-2.45150911e+00, -5.27046277e-01]])"
      ]
     },
     "execution_count": 19,
     "metadata": {},
     "output_type": "execute_result"
    }
   ],
   "source": [
    "y=m.dot(vects)\n",
    "y"
   ]
  },
  {
   "cell_type": "code",
   "execution_count": null,
   "metadata": {},
   "outputs": [],
   "source": []
  }
 ],
 "metadata": {
  "kernelspec": {
   "display_name": "Python 3",
   "language": "python",
   "name": "python3"
  },
  "language_info": {
   "codemirror_mode": {
    "name": "ipython",
    "version": 3
   },
   "file_extension": ".py",
   "mimetype": "text/x-python",
   "name": "python",
   "nbconvert_exporter": "python",
   "pygments_lexer": "ipython3",
   "version": "3.7.3"
  }
 },
 "nbformat": 4,
 "nbformat_minor": 2
}
